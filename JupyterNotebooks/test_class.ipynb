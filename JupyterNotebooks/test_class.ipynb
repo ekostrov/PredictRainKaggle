{
 "cells": [
  {
   "cell_type": "code",
   "execution_count": 2,
   "metadata": {
    "papermill": {
     "duration": 1.122917,
     "end_time": "2021-03-07T17:40:03.805165",
     "exception": false,
     "start_time": "2021-03-07T17:40:02.682248",
     "status": "completed"
    },
    "tags": []
   },
   "outputs": [],
   "source": [
    "import numpy as np # linear algebra\n",
    "import pandas as pd # data processing, CSV file I/O (e.g. pd.read_csv)\n",
    "import seaborn as sns \n",
    "import matplotlib.pyplot as plt\n",
    "%matplotlib inline\n",
    "# machine learning\n",
    "from sklearn.ensemble import RandomForestClassifier\n",
    "#from xgboost import XGBClassifier\n",
    "import os\n",
    "import sys\n",
    "from sklearn.model_selection import train_test_split\n",
    "from sklearn.model_selection import cross_val_score\n",
    "from sklearn.model_selection import cross_validate\n",
    "from sklearn.pipeline import Pipeline\n",
    "from sklearn.preprocessing import StandardScaler, LabelEncoder\n",
    "from sklearn.metrics import precision_score, recall_score, f1_score, classification_report\n",
    "from sklearn.metrics import roc_auc_score, accuracy_score, confusion_matrix\n",
    "from sklearn.model_selection import GridSearchCV\n",
    "from sklearn.base import BaseEstimator, TransformerMixin\n",
    "from sklearn.preprocessing import OneHotEncoder\n",
    "from sklearn.preprocessing import LabelEncoder\n",
    "import warnings # suppress warnings\n",
    "warnings.filterwarnings('ignore') # suppress warnings"
   ]
  },
  {
   "cell_type": "code",
   "execution_count": 3,
   "metadata": {},
   "outputs": [],
   "source": [
    "# Import functions from the package \"tools\"(created by Y. Kostrov)"
   ]
  },
  {
   "cell_type": "code",
   "execution_count": 4,
   "metadata": {},
   "outputs": [],
   "source": [
    "from tools import fill_missing_values, create_month, \\\n",
    "print_missing ,assessClassifier, testClassifier, \\\n",
    "modify_data"
   ]
  },
  {
   "cell_type": "code",
   "execution_count": 5,
   "metadata": {},
   "outputs": [],
   "source": [
    "from sklearn.linear_model import LogisticRegression\n",
    "from sklearn.ensemble import RandomForestClassifier"
   ]
  },
  {
   "cell_type": "code",
   "execution_count": 6,
   "metadata": {},
   "outputs": [],
   "source": [
    "df = pd.read_csv('../data/weatherAUS.csv')"
   ]
  },
  {
   "cell_type": "code",
   "execution_count": 7,
   "metadata": {},
   "outputs": [],
   "source": [
    "df.RainTomorrow.dropna(axis=0,inplace=True)"
   ]
  },
  {
   "cell_type": "code",
   "execution_count": 8,
   "metadata": {},
   "outputs": [],
   "source": [
    "class CustomScaler(BaseEstimator, TransformerMixin):\n",
    "    def __init__(self):\n",
    "        super().__init__()\n",
    "        self.num_cols_ = None\n",
    "        self.scaler_ = None\n",
    "        \n",
    "    def fit(self, X, y=None):\n",
    "        self.num_cols_ =[column for column in X_train.columns if X_train[column].dtype == 'float64']\n",
    "        self.scaler = StandardScaler()\n",
    "        self.scaler.fit(X[self.num_cols_])\n",
    "\n",
    "        return self\n",
    "    \n",
    "    def transform(self, X, y=None):\n",
    "        X[self.num_cols_] = self.scaler.transform(X[self.num_cols_]) # fit and transform the data\n",
    "        \n",
    "        return X"
   ]
  },
  {
   "cell_type": "code",
   "execution_count": 9,
   "metadata": {},
   "outputs": [],
   "source": [
    "class CustomImputer(BaseEstimator, TransformerMixin):\n",
    "    def __init__(self):\n",
    "        super().__init__()\n",
    "        self.loc_month_medians_ = {}\n",
    "        self.month_medians_ = {}\n",
    "        self.num_cols_ = None\n",
    "        self.str_cols_ = None\n",
    "        \n",
    "    def fit(self, X, y=None):\n",
    "        self.num_cols_ = [column for column in X.columns if X[column].dtype == 'float64']\n",
    "        self.str_cols_ = [column for column in X.columns if X[column].dtype == 'object']\n",
    "        self.loc_month_medians_ = X.groupby(['Location','Month']).median()\n",
    "        self.month_medians_ = X.groupby(['Month']).median()\n",
    "        return self\n",
    "    \n",
    "    def transform(self, X, y=None):\n",
    "        print(\"Transforming Data Set\")\n",
    "        for location in X.Location.unique():\n",
    "            for month in X.Month.unique():\n",
    "                for column in self.num_cols_:\n",
    "                    median_for_month = self.loc_month_medians_.loc[(location,month)][column]\n",
    "                    if np.isnan(median_for_month):\n",
    "                        median_for_month = self.month_medians_.loc[month][column]\n",
    "                    idx = list(X[(X.Location == location) & (X.Month == month) & (X[column].isna())].index)\n",
    "                    X.loc[idx,column] = median_for_month\n",
    "        \n",
    "        return X"
   ]
  },
  {
   "cell_type": "code",
   "execution_count": 10,
   "metadata": {},
   "outputs": [],
   "source": [
    "class CustomCreateMonth(BaseEstimator, TransformerMixin):\n",
    "    \n",
    "    def __init__(self):\n",
    "        super().__init__()\n",
    "    \n",
    "    def fit(self, X, y=None):\n",
    "        return self\n",
    "    \n",
    "    def transform(self, X, y=None):\n",
    "        X['Month'] = X.Date.apply(lambda x : int(x.split('-')[1]))\n",
    "        X = X.drop('Date', axis=1)\n",
    "        \n",
    "        return X"
   ]
  },
  {
   "cell_type": "code",
   "execution_count": 11,
   "metadata": {},
   "outputs": [],
   "source": [
    "class CustomFixLocation(BaseEstimator, TransformerMixin):\n",
    "    def __init__(self):\n",
    "        super().__init__()\n",
    "        self.lb_ = None\n",
    "    \n",
    "    def fit(self, X, y=None):\n",
    "        self.lb_ = LabelEncoder()\n",
    "        self.lb_.fit(X['Location'])\n",
    "        \n",
    "        return self\n",
    "    \n",
    "    def transform(self, X, y=None):\n",
    "        X['Location'] = self.lb_.transform(X['Location'])\n",
    "        \n",
    "        return X\n",
    "    "
   ]
  },
  {
   "cell_type": "code",
   "execution_count": 12,
   "metadata": {},
   "outputs": [],
   "source": [
    "class CustomCategoryImputer(BaseEstimator, TransformerMixin):\n",
    "    def __init__(self):\n",
    "        super().__init__()\n",
    "        self.str_cols_ = None\n",
    "    \n",
    "    def fit(self, X, y=None):\n",
    "        self.str_cols_ = [column for column in X.columns if X[column].dtype == 'object']\n",
    "        return self\n",
    "    \n",
    "    def transform(self, X, y=None):\n",
    "        for column in self.str_cols_:\n",
    "            idx = X[X[column].isna()].index\n",
    "            X.loc[idx,column] ='MIA'\n",
    "        return X"
   ]
  },
  {
   "cell_type": "code",
   "execution_count": 13,
   "metadata": {},
   "outputs": [],
   "source": [
    "class CustomCategoryEncoder(BaseEstimator, TransformerMixin):\n",
    "    def __init__(self):\n",
    "        super().__init__()\n",
    "        self.enc_ = None\n",
    "        self.str_cols_ = None\n",
    "        self.num_cols_ = None\n",
    "    \n",
    "    def impute(self, X_str):\n",
    "        imputer = CustomCategoryImputer()\n",
    "        imputer.fit(X_str)\n",
    "        X_str = imputer.transform(X_str)\n",
    "        return X_str\n",
    "    \n",
    "    def fit(self, X, y=None):\n",
    "        self.num_cols_ = [column for column in X.columns if X[column].dtype == 'float64']\n",
    "        self.str_cols_ = [column for column in X.columns if X[column].dtype == 'object']\n",
    "        self.enc_ = OneHotEncoder(handle_unknown='ignore', sparse=False)\n",
    "        self.enc_.fit(X[self.str_cols_])\n",
    "        \n",
    "        return self\n",
    "    \n",
    "    def transform(self, X, y=None):\n",
    "        X_str = X[list(self.str_cols_)]\n",
    "        X_num = X[list(self.num_cols_)]\n",
    "        X_str = self.enc_.transform(X_str)\n",
    "        column_names = self.enc_.get_feature_names(self.str_cols_)\n",
    "        for i, col in enumerate(column_names):\n",
    "            X_num[col] = X_str[:,i]\n",
    "        \n",
    "        X = X_num\n",
    "        return X"
   ]
  },
  {
   "cell_type": "code",
   "execution_count": 14,
   "metadata": {},
   "outputs": [],
   "source": [
    "def convert_to_numeric(val):\n",
    "    if val == \"No\":\n",
    "        return 0\n",
    "    else:\n",
    "        return 1"
   ]
  },
  {
   "cell_type": "code",
   "execution_count": 15,
   "metadata": {},
   "outputs": [],
   "source": [
    "df = pd.read_csv('../data/weatherAUS.csv')\n",
    "idx = df[df.RainTomorrow.isna()].index\n",
    "df.drop(idx, axis=0,inplace=True)\n",
    "df.sample(frac=1,random_state=10)\n",
    "X_t = df.drop('RainTomorrow',axis=1) # Create the data without target column\n",
    "y_t = df.RainTomorrow # assign the target column\n",
    "X_train, X_test, y_train, y_test = train_test_split(X_t, y_t, test_size=0.25, random_state=0) # split the data into train/test datasets"
   ]
  },
  {
   "cell_type": "code",
   "execution_count": 16,
   "metadata": {},
   "outputs": [],
   "source": [
    "y_train = y_train.apply(convert_to_numeric)\n",
    "y_test = y_test.apply(convert_to_numeric)"
   ]
  },
  {
   "cell_type": "code",
   "execution_count": 17,
   "metadata": {},
   "outputs": [
    {
     "output_type": "execute_result",
     "data": {
      "text/plain": [
       "0    27543\n",
       "1     8006\n",
       "Name: RainTomorrow, dtype: int64"
      ]
     },
     "metadata": {},
     "execution_count": 17
    }
   ],
   "source": [
    "y_test.value_counts()"
   ]
  },
  {
   "cell_type": "code",
   "execution_count": 18,
   "metadata": {},
   "outputs": [
    {
     "output_type": "execute_result",
     "data": {
      "text/plain": [
       "0    82773\n",
       "1    23871\n",
       "Name: RainTomorrow, dtype: int64"
      ]
     },
     "metadata": {},
     "execution_count": 18
    }
   ],
   "source": [
    "y_train.value_counts()"
   ]
  },
  {
   "cell_type": "code",
   "execution_count": 19,
   "metadata": {},
   "outputs": [],
   "source": [
    "pipeline = Pipeline(steps=[\n",
    "    ('create_month', CustomCreateMonth()),\n",
    "    ('create_loc_number', CustomFixLocation()),\n",
    "    ('num_imputer', CustomImputer()),\n",
    "    ('num_scaler', CustomScaler()),\n",
    "    ('cat_imputer', CustomCategoryImputer()),\n",
    "    #('oneHE', OneHotEncoder(handle_unknown='ignore')),\n",
    "    ('cat_encoder', CustomCategoryEncoder())\n",
    "])\n"
   ]
  },
  {
   "cell_type": "code",
   "execution_count": 20,
   "metadata": {},
   "outputs": [],
   "source": [
    "full_pipeline = Pipeline(steps=[\n",
    "    ('pip',pipeline),\n",
    "    ('clf',RandomForestClassifier())\n",
    "])"
   ]
  },
  {
   "cell_type": "code",
   "execution_count": 28,
   "metadata": {},
   "outputs": [],
   "source": [
    "#full_pipeline.fit(X_train,y_train)"
   ]
  },
  {
   "cell_type": "code",
   "execution_count": 29,
   "metadata": {},
   "outputs": [],
   "source": [
    "#y_pred = full_pipeline.predict(X_test)\n",
    "#confusion_matrix(y_test, y_pred)"
   ]
  },
  {
   "cell_type": "code",
   "execution_count": 30,
   "metadata": {},
   "outputs": [],
   "source": [
    "params={'clf__max_features':[0.3, 0.5],\n",
    "        'clf__min_samples_leaf':[1, 2],\n",
    "        'clf__max_depth':[None]\n",
    "        }"
   ]
  },
  {
   "cell_type": "code",
   "execution_count": 31,
   "metadata": {},
   "outputs": [],
   "source": [
    "jobs = -1\n",
    "RF = GridSearchCV(estimator=full_pipeline,\n",
    "            param_grid=params,\n",
    "            scoring='f1',cv=2,\n",
    "            verbose=1,\n",
    "            n_jobs=jobs,\n",
    "                 )"
   ]
  },
  {
   "cell_type": "code",
   "execution_count": 32,
   "metadata": {},
   "outputs": [
    {
     "output_type": "stream",
     "name": "stdout",
     "text": [
      "Fitting 2 folds for each of 4 candidates, totalling 8 fits\n",
      "Transforming Data Set\n"
     ]
    },
    {
     "output_type": "execute_result",
     "data": {
      "text/plain": [
       "GridSearchCV(cv=2,\n",
       "             estimator=Pipeline(steps=[('pip',\n",
       "                                        Pipeline(steps=[('create_month',\n",
       "                                                         CustomCreateMonth()),\n",
       "                                                        ('create_loc_number',\n",
       "                                                         CustomFixLocation()),\n",
       "                                                        ('num_imputer',\n",
       "                                                         CustomImputer()),\n",
       "                                                        ('num_scaler',\n",
       "                                                         CustomScaler()),\n",
       "                                                        ('cat_imputer',\n",
       "                                                         CustomCategoryImputer()),\n",
       "                                                        ('cat_encoder',\n",
       "                                                         CustomCategoryEncoder())])),\n",
       "                                       ('clf', RandomForestClassifier())]),\n",
       "             n_jobs=-1,\n",
       "             param_grid={'clf__max_depth': [None],\n",
       "                         'clf__max_features': [0.3, 0.5],\n",
       "                         'clf__min_samples_leaf': [1, 2]},\n",
       "             scoring='f1', verbose=1)"
      ]
     },
     "metadata": {},
     "execution_count": 32
    }
   ],
   "source": [
    "RF.fit(X_train,y_train)"
   ]
  },
  {
   "cell_type": "code",
   "execution_count": 33,
   "metadata": {},
   "outputs": [
    {
     "output_type": "stream",
     "name": "stdout",
     "text": [
      "Transforming Data Set\n"
     ]
    }
   ],
   "source": [
    "y_pred = RF.predict(X_test)"
   ]
  },
  {
   "cell_type": "code",
   "execution_count": 34,
   "metadata": {},
   "outputs": [
    {
     "output_type": "stream",
     "name": "stdout",
     "text": [
      "Transforming Data Set\n"
     ]
    }
   ],
   "source": [
    "y_pred = RF.predict(X_test)"
   ]
  },
  {
   "cell_type": "code",
   "execution_count": 35,
   "metadata": {},
   "outputs": [
    {
     "output_type": "stream",
     "name": "stdout",
     "text": [
      "              precision    recall  f1-score   support\n\n           0       0.87      0.95      0.91     27543\n           1       0.77      0.53      0.63      8006\n\n    accuracy                           0.86     35549\n   macro avg       0.82      0.74      0.77     35549\nweighted avg       0.85      0.86      0.85     35549\n\n[[26268  1275]\n [ 3764  4242]]\n"
     ]
    }
   ],
   "source": [
    "print(classification_report(y_test,y_pred))\n",
    "print(confusion_matrix(y_test,y_pred))"
   ]
  },
  {
   "cell_type": "code",
   "execution_count": null,
   "metadata": {},
   "outputs": [],
   "source": []
  }
 ],
 "metadata": {
  "interpreter": {
   "hash": "767d51c1340bd893661ea55ea3124f6de3c7a262a8b4abca0554b478b1e2ff90"
  },
  "kernelspec": {
   "name": "python3",
   "display_name": "Python 2.7.16 64-bit"
  },
  "language_info": {
   "codemirror_mode": {
    "name": "ipython",
    "version": 3
   },
   "file_extension": ".py",
   "mimetype": "text/x-python",
   "name": "python",
   "nbconvert_exporter": "python",
   "pygments_lexer": "ipython3",
   "version": "2.7.16"
  }
 },
 "nbformat": 4,
 "nbformat_minor": 4
}